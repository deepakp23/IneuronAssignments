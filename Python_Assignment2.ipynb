{
  "nbformat": 4,
  "nbformat_minor": 0,
  "metadata": {
    "colab": {
      "name": "Python Assignment2.ipynb",
      "provenance": [],
      "authorship_tag": "ABX9TyNiG2N68sy/eLijkWumec/W",
      "include_colab_link": true
    },
    "kernelspec": {
      "name": "python3",
      "display_name": "Python 3"
    }
  },
  "cells": [
    {
      "cell_type": "markdown",
      "metadata": {
        "id": "view-in-github",
        "colab_type": "text"
      },
      "source": [
        "<a href=\"https://colab.research.google.com/github/deepakp23/IneuronAssignments/blob/main/Python_Assignment2.ipynb\" target=\"_parent\"><img src=\"https://colab.research.google.com/assets/colab-badge.svg\" alt=\"Open In Colab\"/></a>"
      ]
    },
    {
      "cell_type": "markdown",
      "metadata": {
        "id": "nu4Abc9OrQFE"
      },
      "source": [
        "\n",
        "\n",
        "```\n",
        "Create the below pattern using nested for loop in Python. \n",
        "* \n",
        "* * \n",
        "* * * \n",
        "* * * * \n",
        "* * * * * \n",
        "* * * * \n",
        "* * *\n",
        "* * \n",
        "*\n",
        "```\n",
        "\n"
      ]
    },
    {
      "cell_type": "code",
      "metadata": {
        "id": "FmD2XszFrFem"
      },
      "source": [
        "def create_pattern(n):\n",
        "  for i in range(n):\n",
        "    for j in range(i+1):\n",
        "      print('*', end = \" \")\n",
        "    print(\" \")\n",
        "  for i in range(n,0,-1):\n",
        "    for j in range(i):\n",
        "      print(\"*\", end = \" \")\n",
        "    print(\" \")\n",
        "    "
      ],
      "execution_count": 12,
      "outputs": []
    },
    {
      "cell_type": "code",
      "metadata": {
        "colab": {
          "base_uri": "https://localhost:8080/"
        },
        "id": "89MSPoFfsMwb",
        "outputId": "1eb68f05-fe8e-4872-c4a8-c4fea67995f6"
      },
      "source": [
        "create_pattern(5)"
      ],
      "execution_count": 13,
      "outputs": [
        {
          "output_type": "stream",
          "text": [
            "*  \n",
            "* *  \n",
            "* * *  \n",
            "* * * *  \n",
            "* * * * *  \n",
            "* * * * *  \n",
            "* * * *  \n",
            "* * *  \n",
            "* *  \n",
            "*  \n"
          ],
          "name": "stdout"
        }
      ]
    },
    {
      "cell_type": "markdown",
      "metadata": {
        "id": "vnsQKnvUs8qJ"
      },
      "source": [
        "**2. Write a Python program to reverse a word after accepting the input from the user.**"
      ]
    },
    {
      "cell_type": "code",
      "metadata": {
        "colab": {
          "base_uri": "https://localhost:8080/"
        },
        "id": "2elsgKNNtAlG",
        "outputId": "ee56e7d8-51ee-440d-8a07-8e2163ff141a"
      },
      "source": [
        "string_input = input(\"Enter a String: \")\n",
        "reverse_string = string_input[::-1]\n",
        "print(\"Reverse of string: \", reverse_string)"
      ],
      "execution_count": 14,
      "outputs": [
        {
          "output_type": "stream",
          "text": [
            "Enter a String: deepak\n",
            "Reverse of string:  kapeed\n"
          ],
          "name": "stdout"
        }
      ]
    },
    {
      "cell_type": "code",
      "metadata": {
        "id": "A0CczO1gtrF3"
      },
      "source": [
        ""
      ],
      "execution_count": null,
      "outputs": []
    }
  ]
}